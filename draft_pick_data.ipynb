{
 "cells": [
  {
   "cell_type": "markdown",
   "metadata": {},
   "source": [
    "### “We manage what we measure, but frequently we measure what is easy.” - Datanuts meeting"
   ]
  },
  {
   "cell_type": "markdown",
   "metadata": {},
   "source": [
    "link to dataset\n",
    "https://www.kaggle.com/lewisgmorris/warehouse-picking-times\n",
    "\n",
    "Content\n",
    "\n",
    "PH_DOC - unique order reference\n",
    "\n",
    "PH_SORDER - unique order reference\n",
    "\n",
    "PH_DELIVER - unique delivery reference\n",
    "\n",
    "PH_PICKEDB - name of picker\n",
    "\n",
    "PH_PICKSTA - datetime of picking started\n",
    "\n",
    "PH_PICKEND - datetime of picking ended\n",
    "\n",
    "PH_TOTALLI - total lines picked\n",
    "\n",
    "PH_TOTALBO - total boxes used\n",
    "\n",
    "Inspiration\n",
    "\n",
    "Can you find the patterns in the numbers?\n",
    "\n",
    "Suggestions:\n",
    "\n",
    "What days are busiest?   \n",
    "Are things getting better or worse?   \n",
    "Who is the best?   \n",
    "Whos not pulling their weight?   "
   ]
  },
  {
   "cell_type": "markdown",
   "metadata": {},
   "source": [
    "#### As seen above these are typical questions asked from UPH (units per hour) information. But is this the whole story?     \n",
    "Assuming that a worker is not \"pulling their weight\" because of low UPH assumes that people generally don't want to perform well and puts this burden on the individual to fix the problem. This removes the responsibility from management to find bottle necks and other sources of delay that prevent workers from succeeding and also allows senior managers to erroniously compare disperate environments.\n",
    "\n",
    "#### What if we assumed that every worker wants to succeed and limitations in the environment prevents them from doing so?    \n",
    "This mindset would challenge managers to find and fix the areas and processes that are getting in the way of success and/or to determine if the cost of fixing the issue is more or less expensive than hiring additional labor and would provide a more accurate basis of performance assessment.\n",
    "\n",
    "#### How do we find the bottlenecks and issues that prevent success?    \n",
    "Ask the people doing the job!\n",
    "\n",
    "#### Some frequent limiting factors that are not typically considered when establishing or comparing UPH metrics from site to site:    \n",
    "- Bulk/Lumber distribution: weather, % of warehouse indoor/outdoor, ground level/ramp, state truck maximum weight capacity, product diversity of size, product diversity of weight, max forklift capcity, average drive distance from stacks to truck, asile width of main travel paths, max safe forklift operating speed, average # years operator experience, average # units/truck, % live unload vs staged trucks, lighting levels, equipment down time, in stock %, varibility in product count/package size, average temperature\n",
    "\n",
    "- Indoor operations/non-perishable: product diversity of size, product diversity of weight, max forklift capcity, average drive distance from stacks to truck, asile width of main travel paths, max safe forklift operating speed, average # years operator experience, average # units/truck, % live unload vs staged trucks, floor load/pallet, % full pallet items/individual pick, conveyer lines/pallet jack/forklift pick, products with team lift requirements, sqft of pick zone, average # picks per order, equipment down time, in stock %, varibility in product count/package size, average temperature\n",
    "\n",
    "- Store pulling: store volume, store sqft, product diversity of size, product diversity of weight, order storage area(walk-in/transfer to shelf), sqft of pick zone, average # picks per order, length of shift, task distribution among operators, operator experience(and/or time for response on questions), in stock %, varibility in product count/package size, % use best judgement/do not substitue orders\n",
    "\n",
    "#### Some frequent limiting factors that are not typically considered when establishing or comparing UPH metrics within a site:\n",
    "- Bulk/Lumber distribution: average # years operator experience, average # units/truck, % live unload vs staged trucks, task distribution among operators (inbound, outbound, \"non-productive\"(safety walks, meetings, training), average # units/truck, % live unload vs staged trucks, equipment down time, in stock %, varibility in product count/package size, max forklift capcity, average drive distance from stacks to truck\n",
    "\n",
    "- Indoor operations/non-perishable: product diversity of size, product diversity of weight, max forklift capcity, average drive distance from stacks to truck, asile width of main travel paths, average # years operator experience, average # units/truck, % live unload vs staged trucks, floor load/pallet, % full pallet items/individual pick, conveyer lines/pallet jack/forklift pick, % products with team lift requirements, sqft of pick zone, average # picks per order, equipment down time, in stock %, varibility in product count/package size\n",
    "\n",
    "- Store pulling: sproduct diversity of size, product diversity of weight, sqft of pick zone, average # picks per order, length of shift, task distribution among operators, operator experience(and/or time for response on questions), in stock %, % use best judgement/do not substitue orders"
   ]
  },
  {
   "cell_type": "markdown",
   "metadata": {},
   "source": [
    "Ideally I would find data for all of the above information then explore to see which information showed the greatest impact for predicting units per hour and could build a ML model to predict UPH for a specific site or within a site.\n",
    "\n",
    "Data source ideas:\n",
    "Bulk/Lumber distribution: find my old files, maybe reach out to previous connections to see if any info could be exported\n",
    "\n",
    "Create a fictional warehouse based off of this picking dataset. Use public retail sales dataset for a product mix and generate random info within a range for product weight, size. Use apriori algoithm to generate product frequencies and create fictional orders?\n",
    "\n"
   ]
  },
  {
   "cell_type": "code",
   "execution_count": null,
   "metadata": {},
   "outputs": [],
   "source": [
    "import pandas as pd"
   ]
  },
  {
   "cell_type": "code",
   "execution_count": null,
   "metadata": {},
   "outputs": [],
   "source": [
    "df = pd.read_csv('pick data.csv', low_memory=False)"
   ]
  },
  {
   "cell_type": "code",
   "execution_count": null,
   "metadata": {},
   "outputs": [],
   "source": [
    "df.shape"
   ]
  },
  {
   "cell_type": "code",
   "execution_count": null,
   "metadata": {},
   "outputs": [],
   "source": [
    "df.columns"
   ]
  },
  {
   "cell_type": "code",
   "execution_count": null,
   "metadata": {},
   "outputs": [],
   "source": [
    "df.isna().sum()"
   ]
  },
  {
   "cell_type": "code",
   "execution_count": null,
   "metadata": {},
   "outputs": [],
   "source": [
    "df.info()"
   ]
  },
  {
   "cell_type": "markdown",
   "metadata": {},
   "source": [
    "NOTE: drop all Unnamed columns, these contain only null values"
   ]
  },
  {
   "cell_type": "code",
   "execution_count": null,
   "metadata": {},
   "outputs": [],
   "source": [
    "# create df of useable columns only, PH_Doc and PH_sorder are showing 'value#' for most entries, \n",
    "# PH_deliver contains large # of nulls\n",
    "\n",
    "pickdf = df[['PH_PICKEDB', 'PH_PICKSTA', 'PH_PICKEND', 'PH_TOTALLI', 'PH_TOTALBO']]"
   ]
  },
  {
   "cell_type": "code",
   "execution_count": null,
   "metadata": {},
   "outputs": [],
   "source": [
    "pickdf.head()"
   ]
  },
  {
   "cell_type": "code",
   "execution_count": null,
   "metadata": {},
   "outputs": [],
   "source": [
    "# write this df to csv for future use\n",
    "#pickdf.to_csv('pickdf.csv')"
   ]
  },
  {
   "cell_type": "code",
   "execution_count": null,
   "metadata": {},
   "outputs": [],
   "source": [
    "# Wrangling\n",
    "import pandas as pd\n",
    "import numpy as np\n",
    "from sklearn.model_selection import train_test_split\n",
    "from sklearn.preprocessing import MinMaxScaler\n",
    "from sklearn.preprocessing import StandardScaler\n",
    "\n",
    "# Exploring\n",
    "import scipy.stats as stats\n",
    "\n",
    "# Visualizing\n",
    "import matplotlib.pyplot as plt\n",
    "from matplotlib import cm\n",
    "import seaborn as sns\n",
    "from sklearn.model_selection import learning_curve\n",
    "\n",
    "pd.options.display.float_format = '{:20,.2f}'.format"
   ]
  },
  {
   "cell_type": "code",
   "execution_count": null,
   "metadata": {},
   "outputs": [],
   "source": [
    "pickdf = pd.read_csv('pickdf.csv', index_col=0)"
   ]
  },
  {
   "cell_type": "code",
   "execution_count": null,
   "metadata": {},
   "outputs": [],
   "source": [
    "pickdf.head()"
   ]
  },
  {
   "cell_type": "code",
   "execution_count": null,
   "metadata": {},
   "outputs": [],
   "source": [
    "pickdf.info()"
   ]
  },
  {
   "cell_type": "code",
   "execution_count": null,
   "metadata": {},
   "outputs": [],
   "source": [
    "pickdf.isna().sum()"
   ]
  },
  {
   "cell_type": "code",
   "execution_count": null,
   "metadata": {},
   "outputs": [],
   "source": [
    "# this is a very small # of nulls, will drop all\n",
    "pickdf.dropna(inplace=True)"
   ]
  },
  {
   "cell_type": "code",
   "execution_count": null,
   "metadata": {},
   "outputs": [],
   "source": [
    "pickdf.isna().sum()"
   ]
  },
  {
   "cell_type": "code",
   "execution_count": null,
   "metadata": {},
   "outputs": [],
   "source": [
    "pickdf = pickdf.rename(columns={'PH_PICKEDB': 'operator', 'PH_PICKSTA': 'start_time', 'PH_PICKEND': 'end_time', 'PH_TOTALLI': 'total_lines', 'PH_TOTALBO': 'total_boxes'})"
   ]
  },
  {
   "cell_type": "code",
   "execution_count": null,
   "metadata": {},
   "outputs": [],
   "source": [
    "pickdf.head()"
   ]
  },
  {
   "cell_type": "code",
   "execution_count": null,
   "metadata": {},
   "outputs": [],
   "source": [
    "# convert start_time and end_time to date time\n",
    "pickdf['start']= pd.to_datetime(pickdf['start_time'])\n",
    "pickdf['end']= pd.to_datetime(pickdf['end_time'])"
   ]
  },
  {
   "cell_type": "code",
   "execution_count": null,
   "metadata": {},
   "outputs": [],
   "source": [
    "pickdf.head()"
   ]
  },
  {
   "cell_type": "code",
   "execution_count": null,
   "metadata": {},
   "outputs": [],
   "source": [
    "pickdf.info()"
   ]
  },
  {
   "cell_type": "code",
   "execution_count": null,
   "metadata": {},
   "outputs": [],
   "source": [
    "pickdf = pickdf.drop(columns=['start_time', 'end_time'])"
   ]
  },
  {
   "cell_type": "markdown",
   "metadata": {},
   "source": [
    "# START HERE\n",
    "\n",
    "### For 1st iteration looking to create baseline and model to predict boxes/hr that beats baseline\n",
    "\n",
    "#### for this iteration total lines will be defined as the number of line items on the order"
   ]
  },
  {
   "cell_type": "code",
   "execution_count": 1,
   "metadata": {},
   "outputs": [],
   "source": [
    "# Wrangling\n",
    "import pandas as pd\n",
    "import numpy as np\n",
    "from sklearn.model_selection import train_test_split\n",
    "from sklearn.preprocessing import MinMaxScaler\n",
    "from sklearn.preprocessing import StandardScaler\n",
    "import acquire\n",
    "import prepare\n",
    "import wrangle_pick\n",
    "\n",
    "# Exploring\n",
    "import scipy.stats as stats\n",
    "\n",
    "# Visualizing\n",
    "import matplotlib.pyplot as plt\n",
    "from matplotlib import cm\n",
    "import seaborn as sns\n",
    "from sklearn.model_selection import learning_curve\n",
    "\n",
    "pd.options.display.float_format = '{:20,.2f}'.format"
   ]
  },
  {
   "cell_type": "markdown",
   "metadata": {},
   "source": [
    "### more data cleaning needed   \n",
    "\n",
    "- sort operator column into actual operators\n",
    "    - for now remove all operator names that occur less than 10 times\n",
    "    - a list of those has been made as variable one_off if needed later\n",
    "    - one_off operators will need to be removed from full dataframe before modeling\n",
    "- add pick time in seconds column\n",
    "- removed all from 2015 and 2020\n",
    "   - vis shows 2015 and 2020 significantly lower volume, for continuity with work with years 2016-2019 where volume is in consistent range\n",
    "- add lines per box\n",
    "- add sec per box\n",
    "- add sec per line\n",
    "- drop single observation with negative pick time\n",
    "\n",
    "### completed and added to prepare function"
   ]
  },
  {
   "cell_type": "code",
   "execution_count": 2,
   "metadata": {},
   "outputs": [
    {
     "name": "stdout",
     "output_type": "stream",
     "text": [
      "Acquire: downloading raw data files...\n",
      "Acquire: Completed!\n",
      "Prepare: Cleaning acquired data...\n",
      "Prepare: Completed!\n"
     ]
    },
    {
     "data": {
      "text/plain": [
       "((96644, 18), (20065, 18), (17055, 18))"
      ]
     },
     "execution_count": 2,
     "metadata": {},
     "output_type": "execute_result"
    }
   ],
   "source": [
    "train, test, validate = wrangle_pick.wrangle_pick_data()\n",
    "train.shape, test.shape, validate.shape"
   ]
  },
  {
   "cell_type": "code",
   "execution_count": 3,
   "metadata": {},
   "outputs": [],
   "source": [
    "train.to_csv('train_v1.csv')"
   ]
  },
  {
   "cell_type": "code",
   "execution_count": 4,
   "metadata": {},
   "outputs": [
    {
     "data": {
      "text/html": [
       "<div>\n",
       "<style scoped>\n",
       "    .dataframe tbody tr th:only-of-type {\n",
       "        vertical-align: middle;\n",
       "    }\n",
       "\n",
       "    .dataframe tbody tr th {\n",
       "        vertical-align: top;\n",
       "    }\n",
       "\n",
       "    .dataframe thead th {\n",
       "        text-align: right;\n",
       "    }\n",
       "</style>\n",
       "<table border=\"1\" class=\"dataframe\">\n",
       "  <thead>\n",
       "    <tr style=\"text-align: right;\">\n",
       "      <th></th>\n",
       "      <th>operator</th>\n",
       "      <th>total_lines</th>\n",
       "      <th>total_boxes</th>\n",
       "      <th>start</th>\n",
       "      <th>end</th>\n",
       "      <th>pick_time</th>\n",
       "      <th>pick_seconds</th>\n",
       "      <th>int_day</th>\n",
       "      <th>day_name</th>\n",
       "      <th>start_year</th>\n",
       "      <th>start_month</th>\n",
       "      <th>start_Y_M</th>\n",
       "      <th>end_year</th>\n",
       "      <th>end_month</th>\n",
       "      <th>end_Y_M</th>\n",
       "      <th>sec_per_box</th>\n",
       "      <th>lines_per_box</th>\n",
       "      <th>sec_per_line</th>\n",
       "    </tr>\n",
       "  </thead>\n",
       "  <tbody>\n",
       "    <tr>\n",
       "      <th>50058</th>\n",
       "      <td>IT</td>\n",
       "      <td>3</td>\n",
       "      <td>1</td>\n",
       "      <td>2016-11-10 09:58:58</td>\n",
       "      <td>2016-11-10 10:00:57</td>\n",
       "      <td>00:01:59</td>\n",
       "      <td>119.00</td>\n",
       "      <td>3</td>\n",
       "      <td>Thursday</td>\n",
       "      <td>2016</td>\n",
       "      <td>11</td>\n",
       "      <td>2016-11</td>\n",
       "      <td>2016</td>\n",
       "      <td>11</td>\n",
       "      <td>2016-11</td>\n",
       "      <td>119.00</td>\n",
       "      <td>3.00</td>\n",
       "      <td>39.67</td>\n",
       "    </tr>\n",
       "    <tr>\n",
       "      <th>78958</th>\n",
       "      <td>IT</td>\n",
       "      <td>71</td>\n",
       "      <td>1</td>\n",
       "      <td>2017-08-22 08:40:42</td>\n",
       "      <td>2017-08-22 09:08:29</td>\n",
       "      <td>00:27:47</td>\n",
       "      <td>1,667.00</td>\n",
       "      <td>1</td>\n",
       "      <td>Tuesday</td>\n",
       "      <td>2017</td>\n",
       "      <td>8</td>\n",
       "      <td>2017-08</td>\n",
       "      <td>2017</td>\n",
       "      <td>8</td>\n",
       "      <td>2017-08</td>\n",
       "      <td>1,667.00</td>\n",
       "      <td>71.00</td>\n",
       "      <td>23.48</td>\n",
       "    </tr>\n",
       "    <tr>\n",
       "      <th>72775</th>\n",
       "      <td>JS</td>\n",
       "      <td>3</td>\n",
       "      <td>1</td>\n",
       "      <td>2017-06-19 16:54:16</td>\n",
       "      <td>2017-06-19 16:58:10</td>\n",
       "      <td>00:03:54</td>\n",
       "      <td>234.00</td>\n",
       "      <td>0</td>\n",
       "      <td>Monday</td>\n",
       "      <td>2017</td>\n",
       "      <td>6</td>\n",
       "      <td>2017-06</td>\n",
       "      <td>2017</td>\n",
       "      <td>6</td>\n",
       "      <td>2017-06</td>\n",
       "      <td>234.00</td>\n",
       "      <td>3.00</td>\n",
       "      <td>78.00</td>\n",
       "    </tr>\n",
       "    <tr>\n",
       "      <th>68159</th>\n",
       "      <td>IT</td>\n",
       "      <td>4</td>\n",
       "      <td>1</td>\n",
       "      <td>2017-04-27 16:51:23</td>\n",
       "      <td>2017-04-27 16:57:45</td>\n",
       "      <td>00:06:22</td>\n",
       "      <td>382.00</td>\n",
       "      <td>3</td>\n",
       "      <td>Thursday</td>\n",
       "      <td>2017</td>\n",
       "      <td>4</td>\n",
       "      <td>2017-04</td>\n",
       "      <td>2017</td>\n",
       "      <td>4</td>\n",
       "      <td>2017-04</td>\n",
       "      <td>382.00</td>\n",
       "      <td>4.00</td>\n",
       "      <td>95.50</td>\n",
       "    </tr>\n",
       "    <tr>\n",
       "      <th>96678</th>\n",
       "      <td>HB</td>\n",
       "      <td>2</td>\n",
       "      <td>1</td>\n",
       "      <td>2018-03-15 12:17:11</td>\n",
       "      <td>2018-03-15 12:17:35</td>\n",
       "      <td>00:00:24</td>\n",
       "      <td>24.00</td>\n",
       "      <td>3</td>\n",
       "      <td>Thursday</td>\n",
       "      <td>2018</td>\n",
       "      <td>3</td>\n",
       "      <td>2018-03</td>\n",
       "      <td>2018</td>\n",
       "      <td>3</td>\n",
       "      <td>2018-03</td>\n",
       "      <td>24.00</td>\n",
       "      <td>2.00</td>\n",
       "      <td>12.00</td>\n",
       "    </tr>\n",
       "  </tbody>\n",
       "</table>\n",
       "</div>"
      ],
      "text/plain": [
       "      operator  total_lines  total_boxes               start  \\\n",
       "50058       IT            3            1 2016-11-10 09:58:58   \n",
       "78958       IT           71            1 2017-08-22 08:40:42   \n",
       "72775       JS            3            1 2017-06-19 16:54:16   \n",
       "68159       IT            4            1 2017-04-27 16:51:23   \n",
       "96678       HB            2            1 2018-03-15 12:17:11   \n",
       "\n",
       "                      end pick_time         pick_seconds  int_day  day_name  \\\n",
       "50058 2016-11-10 10:00:57  00:01:59               119.00        3  Thursday   \n",
       "78958 2017-08-22 09:08:29  00:27:47             1,667.00        1   Tuesday   \n",
       "72775 2017-06-19 16:58:10  00:03:54               234.00        0    Monday   \n",
       "68159 2017-04-27 16:57:45  00:06:22               382.00        3  Thursday   \n",
       "96678 2018-03-15 12:17:35  00:00:24                24.00        3  Thursday   \n",
       "\n",
       "       start_year  start_month start_Y_M  end_year  end_month  end_Y_M  \\\n",
       "50058        2016           11   2016-11      2016         11  2016-11   \n",
       "78958        2017            8   2017-08      2017          8  2017-08   \n",
       "72775        2017            6   2017-06      2017          6  2017-06   \n",
       "68159        2017            4   2017-04      2017          4  2017-04   \n",
       "96678        2018            3   2018-03      2018          3  2018-03   \n",
       "\n",
       "               sec_per_box        lines_per_box         sec_per_line  \n",
       "50058               119.00                 3.00                39.67  \n",
       "78958             1,667.00                71.00                23.48  \n",
       "72775               234.00                 3.00                78.00  \n",
       "68159               382.00                 4.00                95.50  \n",
       "96678                24.00                 2.00                12.00  "
      ]
     },
     "execution_count": 4,
     "metadata": {},
     "output_type": "execute_result"
    }
   ],
   "source": [
    "train.head()"
   ]
  },
  {
   "cell_type": "code",
   "execution_count": null,
   "metadata": {},
   "outputs": [],
   "source": [
    "train.groupby('operator')[['pick_seconds']].mean()"
   ]
  },
  {
   "cell_type": "code",
   "execution_count": null,
   "metadata": {},
   "outputs": [],
   "source": [
    "train.groupby('day_name')[['pick_seconds']].mean()"
   ]
  },
  {
   "cell_type": "code",
   "execution_count": null,
   "metadata": {},
   "outputs": [],
   "source": [
    "train.groupby(['day_name', 'operator']).pick_seconds.agg(['mean', 'median', 'min', 'max', 'count'])"
   ]
  },
  {
   "cell_type": "code",
   "execution_count": null,
   "metadata": {},
   "outputs": [],
   "source": [
    "train.groupby('operator').pick_seconds.agg(['mean', 'median', 'min', 'max', 'count'])"
   ]
  },
  {
   "cell_type": "code",
   "execution_count": null,
   "metadata": {},
   "outputs": [],
   "source": []
  },
  {
   "cell_type": "code",
   "execution_count": null,
   "metadata": {},
   "outputs": [],
   "source": []
  },
  {
   "cell_type": "code",
   "execution_count": null,
   "metadata": {},
   "outputs": [],
   "source": []
  },
  {
   "cell_type": "code",
   "execution_count": null,
   "metadata": {},
   "outputs": [],
   "source": []
  },
  {
   "cell_type": "markdown",
   "metadata": {},
   "source": [
    "# return to this - "
   ]
  },
  {
   "cell_type": "code",
   "execution_count": 7,
   "metadata": {},
   "outputs": [
    {
     "data": {
      "text/plain": [
       "Timestamp('2016-01-18 09:28:56')"
      ]
     },
     "execution_count": 7,
     "metadata": {},
     "output_type": "execute_result"
    }
   ],
   "source": [
    "train[train.operator == 'EDYTA'].start.min()"
   ]
  },
  {
   "cell_type": "code",
   "execution_count": 3,
   "metadata": {},
   "outputs": [
    {
     "data": {
      "text/plain": [
       "operator\n",
       "AH           2016-01-12 09:46:41\n",
       "ANDREA       2016-01-09 10:21:41\n",
       "AS           2016-01-11 09:48:23\n",
       "AW           2017-07-08 08:59:00\n",
       "CB           2019-01-08 09:00:04\n",
       "                     ...        \n",
       "TS           2017-04-08 11:27:08\n",
       "UN3090LABE   2017-03-11 09:10:21\n",
       "W100S/19     2018-11-01 08:33:29\n",
       "W109/24      2016-04-03 14:41:46\n",
       "WH109/18     2016-07-07 09:34:46\n",
       "Name: start, Length: 66, dtype: datetime64[ns]"
      ]
     },
     "execution_count": 3,
     "metadata": {},
     "output_type": "execute_result"
    }
   ],
   "source": [
    "# additional info needed  operator tenure (in this dataset)\n",
    "op_max_start = train.groupby('operator')['start'].min()\n",
    "op_max_start\n",
    "#train.groupby('operator')['end'].max()"
   ]
  },
  {
   "cell_type": "code",
   "execution_count": 6,
   "metadata": {},
   "outputs": [
    {
     "data": {
      "text/html": [
       "<div>\n",
       "<style scoped>\n",
       "    .dataframe tbody tr th:only-of-type {\n",
       "        vertical-align: middle;\n",
       "    }\n",
       "\n",
       "    .dataframe tbody tr th {\n",
       "        vertical-align: top;\n",
       "    }\n",
       "\n",
       "    .dataframe thead th {\n",
       "        text-align: right;\n",
       "    }\n",
       "</style>\n",
       "<table border=\"1\" class=\"dataframe\">\n",
       "  <thead>\n",
       "    <tr style=\"text-align: right;\">\n",
       "      <th></th>\n",
       "      <th>operator</th>\n",
       "      <th>total_lines</th>\n",
       "      <th>total_boxes</th>\n",
       "      <th>start</th>\n",
       "      <th>end</th>\n",
       "      <th>pick_time</th>\n",
       "      <th>pick_seconds</th>\n",
       "      <th>int_day</th>\n",
       "      <th>day_name</th>\n",
       "      <th>start_year</th>\n",
       "      <th>start_month</th>\n",
       "      <th>start_Y_M</th>\n",
       "      <th>end_year</th>\n",
       "      <th>end_month</th>\n",
       "      <th>end_Y_M</th>\n",
       "      <th>sec_per_box</th>\n",
       "      <th>lines_per_box</th>\n",
       "      <th>sec_per_line</th>\n",
       "    </tr>\n",
       "  </thead>\n",
       "  <tbody>\n",
       "    <tr>\n",
       "      <th>23921</th>\n",
       "      <td>EDYTA</td>\n",
       "      <td>2</td>\n",
       "      <td>1</td>\n",
       "      <td>2016-01-18 09:28:56</td>\n",
       "      <td>2016-01-18 09:29:01</td>\n",
       "      <td>00:00:05</td>\n",
       "      <td>5.00</td>\n",
       "      <td>0</td>\n",
       "      <td>Monday</td>\n",
       "      <td>2016</td>\n",
       "      <td>1</td>\n",
       "      <td>2016-01</td>\n",
       "      <td>2016</td>\n",
       "      <td>1</td>\n",
       "      <td>2016-01</td>\n",
       "      <td>5.00</td>\n",
       "      <td>2.00</td>\n",
       "      <td>2.50</td>\n",
       "    </tr>\n",
       "    <tr>\n",
       "      <th>23922</th>\n",
       "      <td>EDYTA</td>\n",
       "      <td>2</td>\n",
       "      <td>1</td>\n",
       "      <td>2016-01-18 09:29:21</td>\n",
       "      <td>2016-01-18 09:30:12</td>\n",
       "      <td>00:00:51</td>\n",
       "      <td>51.00</td>\n",
       "      <td>0</td>\n",
       "      <td>Monday</td>\n",
       "      <td>2016</td>\n",
       "      <td>1</td>\n",
       "      <td>2016-01</td>\n",
       "      <td>2016</td>\n",
       "      <td>1</td>\n",
       "      <td>2016-01</td>\n",
       "      <td>51.00</td>\n",
       "      <td>2.00</td>\n",
       "      <td>25.50</td>\n",
       "    </tr>\n",
       "    <tr>\n",
       "      <th>23924</th>\n",
       "      <td>EDYTA</td>\n",
       "      <td>2</td>\n",
       "      <td>1</td>\n",
       "      <td>2016-01-18 09:31:04</td>\n",
       "      <td>2016-01-18 09:31:40</td>\n",
       "      <td>00:00:36</td>\n",
       "      <td>36.00</td>\n",
       "      <td>0</td>\n",
       "      <td>Monday</td>\n",
       "      <td>2016</td>\n",
       "      <td>1</td>\n",
       "      <td>2016-01</td>\n",
       "      <td>2016</td>\n",
       "      <td>1</td>\n",
       "      <td>2016-01</td>\n",
       "      <td>36.00</td>\n",
       "      <td>2.00</td>\n",
       "      <td>18.00</td>\n",
       "    </tr>\n",
       "    <tr>\n",
       "      <th>23925</th>\n",
       "      <td>EDYTA</td>\n",
       "      <td>8</td>\n",
       "      <td>1</td>\n",
       "      <td>2016-01-18 09:32:02</td>\n",
       "      <td>2016-01-18 09:34:03</td>\n",
       "      <td>00:02:01</td>\n",
       "      <td>121.00</td>\n",
       "      <td>0</td>\n",
       "      <td>Monday</td>\n",
       "      <td>2016</td>\n",
       "      <td>1</td>\n",
       "      <td>2016-01</td>\n",
       "      <td>2016</td>\n",
       "      <td>1</td>\n",
       "      <td>2016-01</td>\n",
       "      <td>121.00</td>\n",
       "      <td>8.00</td>\n",
       "      <td>15.13</td>\n",
       "    </tr>\n",
       "    <tr>\n",
       "      <th>23926</th>\n",
       "      <td>EDYTA</td>\n",
       "      <td>5</td>\n",
       "      <td>1</td>\n",
       "      <td>2016-01-18 09:35:11</td>\n",
       "      <td>2016-01-18 09:36:27</td>\n",
       "      <td>00:01:16</td>\n",
       "      <td>76.00</td>\n",
       "      <td>0</td>\n",
       "      <td>Monday</td>\n",
       "      <td>2016</td>\n",
       "      <td>1</td>\n",
       "      <td>2016-01</td>\n",
       "      <td>2016</td>\n",
       "      <td>1</td>\n",
       "      <td>2016-01</td>\n",
       "      <td>76.00</td>\n",
       "      <td>5.00</td>\n",
       "      <td>15.20</td>\n",
       "    </tr>\n",
       "    <tr>\n",
       "      <th>...</th>\n",
       "      <td>...</td>\n",
       "      <td>...</td>\n",
       "      <td>...</td>\n",
       "      <td>...</td>\n",
       "      <td>...</td>\n",
       "      <td>...</td>\n",
       "      <td>...</td>\n",
       "      <td>...</td>\n",
       "      <td>...</td>\n",
       "      <td>...</td>\n",
       "      <td>...</td>\n",
       "      <td>...</td>\n",
       "      <td>...</td>\n",
       "      <td>...</td>\n",
       "      <td>...</td>\n",
       "      <td>...</td>\n",
       "      <td>...</td>\n",
       "      <td>...</td>\n",
       "    </tr>\n",
       "    <tr>\n",
       "      <th>22995</th>\n",
       "      <td>EDYTA</td>\n",
       "      <td>10</td>\n",
       "      <td>2</td>\n",
       "      <td>2016-06-01 14:33:43</td>\n",
       "      <td>2016-06-01 14:39:54</td>\n",
       "      <td>00:06:11</td>\n",
       "      <td>371.00</td>\n",
       "      <td>2</td>\n",
       "      <td>Wednesday</td>\n",
       "      <td>2016</td>\n",
       "      <td>6</td>\n",
       "      <td>2016-06</td>\n",
       "      <td>2016</td>\n",
       "      <td>6</td>\n",
       "      <td>2016-06</td>\n",
       "      <td>185.50</td>\n",
       "      <td>5.00</td>\n",
       "      <td>37.10</td>\n",
       "    </tr>\n",
       "    <tr>\n",
       "      <th>23000</th>\n",
       "      <td>EDYTA</td>\n",
       "      <td>2</td>\n",
       "      <td>1</td>\n",
       "      <td>2016-06-01 14:46:29</td>\n",
       "      <td>2016-06-01 14:47:01</td>\n",
       "      <td>00:00:32</td>\n",
       "      <td>32.00</td>\n",
       "      <td>2</td>\n",
       "      <td>Wednesday</td>\n",
       "      <td>2016</td>\n",
       "      <td>6</td>\n",
       "      <td>2016-06</td>\n",
       "      <td>2016</td>\n",
       "      <td>6</td>\n",
       "      <td>2016-06</td>\n",
       "      <td>32.00</td>\n",
       "      <td>2.00</td>\n",
       "      <td>16.00</td>\n",
       "    </tr>\n",
       "    <tr>\n",
       "      <th>23003</th>\n",
       "      <td>EDYTA</td>\n",
       "      <td>8</td>\n",
       "      <td>1</td>\n",
       "      <td>2016-06-01 14:47:22</td>\n",
       "      <td>2016-06-01 14:49:51</td>\n",
       "      <td>00:02:29</td>\n",
       "      <td>149.00</td>\n",
       "      <td>2</td>\n",
       "      <td>Wednesday</td>\n",
       "      <td>2016</td>\n",
       "      <td>6</td>\n",
       "      <td>2016-06</td>\n",
       "      <td>2016</td>\n",
       "      <td>6</td>\n",
       "      <td>2016-06</td>\n",
       "      <td>149.00</td>\n",
       "      <td>8.00</td>\n",
       "      <td>18.62</td>\n",
       "    </tr>\n",
       "    <tr>\n",
       "      <th>23004</th>\n",
       "      <td>EDYTA</td>\n",
       "      <td>2</td>\n",
       "      <td>1</td>\n",
       "      <td>2016-06-01 14:50:15</td>\n",
       "      <td>2016-06-01 14:51:18</td>\n",
       "      <td>00:01:03</td>\n",
       "      <td>63.00</td>\n",
       "      <td>2</td>\n",
       "      <td>Wednesday</td>\n",
       "      <td>2016</td>\n",
       "      <td>6</td>\n",
       "      <td>2016-06</td>\n",
       "      <td>2016</td>\n",
       "      <td>6</td>\n",
       "      <td>2016-06</td>\n",
       "      <td>63.00</td>\n",
       "      <td>2.00</td>\n",
       "      <td>31.50</td>\n",
       "    </tr>\n",
       "    <tr>\n",
       "      <th>23005</th>\n",
       "      <td>EDYTA</td>\n",
       "      <td>14</td>\n",
       "      <td>1</td>\n",
       "      <td>2016-06-01 14:51:50</td>\n",
       "      <td>2016-06-01 14:58:14</td>\n",
       "      <td>00:06:24</td>\n",
       "      <td>384.00</td>\n",
       "      <td>2</td>\n",
       "      <td>Wednesday</td>\n",
       "      <td>2016</td>\n",
       "      <td>6</td>\n",
       "      <td>2016-06</td>\n",
       "      <td>2016</td>\n",
       "      <td>6</td>\n",
       "      <td>2016-06</td>\n",
       "      <td>384.00</td>\n",
       "      <td>14.00</td>\n",
       "      <td>27.43</td>\n",
       "    </tr>\n",
       "  </tbody>\n",
       "</table>\n",
       "<p>232 rows × 18 columns</p>\n",
       "</div>"
      ],
      "text/plain": [
       "      operator  total_lines  total_boxes               start  \\\n",
       "23921    EDYTA            2            1 2016-01-18 09:28:56   \n",
       "23922    EDYTA            2            1 2016-01-18 09:29:21   \n",
       "23924    EDYTA            2            1 2016-01-18 09:31:04   \n",
       "23925    EDYTA            8            1 2016-01-18 09:32:02   \n",
       "23926    EDYTA            5            1 2016-01-18 09:35:11   \n",
       "...        ...          ...          ...                 ...   \n",
       "22995    EDYTA           10            2 2016-06-01 14:33:43   \n",
       "23000    EDYTA            2            1 2016-06-01 14:46:29   \n",
       "23003    EDYTA            8            1 2016-06-01 14:47:22   \n",
       "23004    EDYTA            2            1 2016-06-01 14:50:15   \n",
       "23005    EDYTA           14            1 2016-06-01 14:51:50   \n",
       "\n",
       "                      end pick_time         pick_seconds  int_day   day_name  \\\n",
       "23921 2016-01-18 09:29:01  00:00:05                 5.00        0     Monday   \n",
       "23922 2016-01-18 09:30:12  00:00:51                51.00        0     Monday   \n",
       "23924 2016-01-18 09:31:40  00:00:36                36.00        0     Monday   \n",
       "23925 2016-01-18 09:34:03  00:02:01               121.00        0     Monday   \n",
       "23926 2016-01-18 09:36:27  00:01:16                76.00        0     Monday   \n",
       "...                   ...       ...                  ...      ...        ...   \n",
       "22995 2016-06-01 14:39:54  00:06:11               371.00        2  Wednesday   \n",
       "23000 2016-06-01 14:47:01  00:00:32                32.00        2  Wednesday   \n",
       "23003 2016-06-01 14:49:51  00:02:29               149.00        2  Wednesday   \n",
       "23004 2016-06-01 14:51:18  00:01:03                63.00        2  Wednesday   \n",
       "23005 2016-06-01 14:58:14  00:06:24               384.00        2  Wednesday   \n",
       "\n",
       "       start_year  start_month start_Y_M  end_year  end_month  end_Y_M  \\\n",
       "23921        2016            1   2016-01      2016          1  2016-01   \n",
       "23922        2016            1   2016-01      2016          1  2016-01   \n",
       "23924        2016            1   2016-01      2016          1  2016-01   \n",
       "23925        2016            1   2016-01      2016          1  2016-01   \n",
       "23926        2016            1   2016-01      2016          1  2016-01   \n",
       "...           ...          ...       ...       ...        ...      ...   \n",
       "22995        2016            6   2016-06      2016          6  2016-06   \n",
       "23000        2016            6   2016-06      2016          6  2016-06   \n",
       "23003        2016            6   2016-06      2016          6  2016-06   \n",
       "23004        2016            6   2016-06      2016          6  2016-06   \n",
       "23005        2016            6   2016-06      2016          6  2016-06   \n",
       "\n",
       "               sec_per_box        lines_per_box         sec_per_line  \n",
       "23921                 5.00                 2.00                 2.50  \n",
       "23922                51.00                 2.00                25.50  \n",
       "23924                36.00                 2.00                18.00  \n",
       "23925               121.00                 8.00                15.13  \n",
       "23926                76.00                 5.00                15.20  \n",
       "...                    ...                  ...                  ...  \n",
       "22995               185.50                 5.00                37.10  \n",
       "23000                32.00                 2.00                16.00  \n",
       "23003               149.00                 8.00                18.62  \n",
       "23004                63.00                 2.00                31.50  \n",
       "23005               384.00                14.00                27.43  \n",
       "\n",
       "[232 rows x 18 columns]"
      ]
     },
     "execution_count": 6,
     "metadata": {},
     "output_type": "execute_result"
    }
   ],
   "source": [
    "EDYTA = train[train.operator == 'EDYTA']\n",
    "EDYTA.sort_values('start')"
   ]
  },
  {
   "cell_type": "code",
   "execution_count": null,
   "metadata": {},
   "outputs": [],
   "source": [
    "train.head()"
   ]
  },
  {
   "cell_type": "code",
   "execution_count": null,
   "metadata": {},
   "outputs": [],
   "source": []
  },
  {
   "cell_type": "code",
   "execution_count": null,
   "metadata": {},
   "outputs": [],
   "source": [
    "\n"
   ]
  },
  {
   "cell_type": "markdown",
   "metadata": {},
   "source": [
    "questions for explore\n",
    "1. total min/max pick time? by operator? by day?\n",
    "2. does longer tenure = faster pick_time\n",
    "3. does pick_time average vary significantly by day of week\n",
    "4. days with most orders? fewest? is there a change in # of operators on fewest vs highest order days?\n",
    "    - initial visual shows significant drop in box count on Sat and Sun, likely there are fewer shifts on those days\n",
    "\n",
    "additional variations\n",
    "- assign some operators are PT (4hr vs 8hr shift)\n",
    "- define each line as 1 unique item in 1 unique location, based on that infer size of items"
   ]
  },
  {
   "cell_type": "markdown",
   "metadata": {},
   "source": []
  },
  {
   "cell_type": "code",
   "execution_count": null,
   "metadata": {},
   "outputs": [],
   "source": []
  }
 ],
 "metadata": {
  "kernelspec": {
   "display_name": "Python 3",
   "language": "python",
   "name": "python3"
  },
  "language_info": {
   "codemirror_mode": {
    "name": "ipython",
    "version": 3
   },
   "file_extension": ".py",
   "mimetype": "text/x-python",
   "name": "python",
   "nbconvert_exporter": "python",
   "pygments_lexer": "ipython3",
   "version": "3.7.6"
  },
  "toc": {
   "base_numbering": 1,
   "nav_menu": {},
   "number_sections": true,
   "sideBar": true,
   "skip_h1_title": false,
   "title_cell": "Table of Contents",
   "title_sidebar": "Contents",
   "toc_cell": false,
   "toc_position": {},
   "toc_section_display": true,
   "toc_window_display": false
  }
 },
 "nbformat": 4,
 "nbformat_minor": 4
}
